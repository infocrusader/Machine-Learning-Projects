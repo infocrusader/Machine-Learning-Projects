{
 "cells": [
  {
   "cell_type": "markdown",
   "metadata": {
    "id": "0pwbw1pkFFkY"
   },
   "source": [
    "# Neural Networks"
   ]
  },
  {
   "cell_type": "code",
   "execution_count": 1,
   "metadata": {
    "executionInfo": {
     "elapsed": 2723,
     "status": "ok",
     "timestamp": 1620637570793,
     "user": {
      "displayName": "Özgür Özdemir",
      "photoUrl": "https://lh3.googleusercontent.com/a-/AOh14Gjl2KP3Mj_NirL2GQPsg4UCdlcgL6qDPGInZ8jLCg=s64",
      "userId": "01103416508639248030"
     },
     "user_tz": -180
    },
    "id": "_N7rDXZtU7Tg"
   },
   "outputs": [],
   "source": [
    "import pandas\n",
    "import numpy as np\n",
    "import matplotlib.pyplot as plt\n",
    "import seaborn as sns; sns.set()"
   ]
  },
  {
   "cell_type": "markdown",
   "metadata": {
    "id": "Fwe2Fm_yuWjP"
   },
   "source": [
    "# Dataset"
   ]
  },
  {
   "cell_type": "code",
   "execution_count": 2,
   "metadata": {
    "executionInfo": {
     "elapsed": 1559,
     "status": "ok",
     "timestamp": 1620637634200,
     "user": {
      "displayName": "Özgür Özdemir",
      "photoUrl": "https://lh3.googleusercontent.com/a-/AOh14Gjl2KP3Mj_NirL2GQPsg4UCdlcgL6qDPGInZ8jLCg=s64",
      "userId": "01103416508639248030"
     },
     "user_tz": -180
    },
    "id": "dPIXHUkvuaEH"
   },
   "outputs": [],
   "source": [
    "# MNIST (28x28)\n",
    " \n",
    "from sklearn.datasets import load_digits\n",
    "\n",
    "digits = load_digits()"
   ]
  },
  {
   "cell_type": "code",
   "execution_count": 3,
   "metadata": {
    "colab": {
     "base_uri": "https://localhost:8080/",
     "height": 482
    },
    "executionInfo": {
     "elapsed": 2717,
     "status": "ok",
     "timestamp": 1620637643471,
     "user": {
      "displayName": "Özgür Özdemir",
      "photoUrl": "https://lh3.googleusercontent.com/a-/AOh14Gjl2KP3Mj_NirL2GQPsg4UCdlcgL6qDPGInZ8jLCg=s64",
      "userId": "01103416508639248030"
     },
     "user_tz": -180
    },
    "id": "vuD9FOz6wlmj",
    "outputId": "e5ba6c71-ae32-4b0a-963e-2f023f517e59"
   },
   "outputs": [
    {
     "data": {
      "image/png": "[encoded data removed]",
      "text/plain": [
       "<Figure size 864x576 with 9 Axes>"
      ]
     },
     "metadata": {},
     "output_type": "display_data"
    }
   ],
   "source": [
    "plt.figure(figsize=(12,8))\n",
    "for i in range(9):\n",
    "  plt.subplot(3, 3, i+1)\n",
    "  plt.imshow(digits.images[i])\n",
    "  plt.title(f\"Label: {digits.target[i]}\")\n",
    "  plt.axis(\"off\")"
   ]
  },
  {
   "cell_type": "code",
   "execution_count": 4,
   "metadata": {
    "colab": {
     "base_uri": "https://localhost:8080/"
    },
    "executionInfo": {
     "elapsed": 942,
     "status": "ok",
     "timestamp": 1620637671594,
     "user": {
      "displayName": "Özgür Özdemir",
      "photoUrl": "https://lh3.googleusercontent.com/a-/AOh14Gjl2KP3Mj_NirL2GQPsg4UCdlcgL6qDPGInZ8jLCg=s64",
      "userId": "01103416508639248030"
     },
     "user_tz": -180
    },
    "id": "HHqvmD4vww4Z",
    "outputId": "27fc806b-5525-4968-cb8e-1d75d4e59762"
   },
   "outputs": [
    {
     "name": "stdout",
     "output_type": "stream",
     "text": [
      "Image:\n",
      "[[ 0.  0.  5. 13.  9.  1.  0.  0.]\n",
      " [ 0.  0. 13. 15. 10. 15.  5.  0.]\n",
      " [ 0.  3. 15.  2.  0. 11.  8.  0.]\n",
      " [ 0.  4. 12.  0.  0.  8.  8.  0.]\n",
      " [ 0.  5.  8.  0.  0.  9.  8.  0.]\n",
      " [ 0.  4. 11.  0.  1. 12.  7.  0.]\n",
      " [ 0.  2. 14.  5. 10. 12.  0.  0.]\n",
      " [ 0.  0.  6. 13. 10.  0.  0.  0.]]\n",
      "Image shape: (8, 8)\n",
      "Image data: (64,)\n",
      "Image Label: 0\n"
     ]
    }
   ],
   "source": [
    "print(\"Image:\")\n",
    "print(digits.images[0])\n",
    "print(f\"Image shape: {digits.images[0].shape}\")\n",
    "print(f\"Image data: {digits.data[0].shape}\")\n",
    "print(f\"Image Label: {digits.target[0]}\")"
   ]
  },
  {
   "cell_type": "code",
   "execution_count": 5,
   "metadata": {
    "executionInfo": {
     "elapsed": 484,
     "status": "ok",
     "timestamp": 1620637840882,
     "user": {
      "displayName": "Özgür Özdemir",
      "photoUrl": "https://lh3.googleusercontent.com/a-/AOh14Gjl2KP3Mj_NirL2GQPsg4UCdlcgL6qDPGInZ8jLCg=s64",
      "userId": "01103416508639248030"
     },
     "user_tz": -180
    },
    "id": "ivW4TgF73lfm"
   },
   "outputs": [],
   "source": [
    "from sklearn.preprocessing import OneHotEncoder\n",
    "\n",
    "X = digits.data\n",
    "y = OneHotEncoder().fit_transform(digits.target.reshape(-1, 1)).toarray()"
   ]
  },
  {
   "cell_type": "code",
   "execution_count": 6,
   "metadata": {
    "executionInfo": {
     "elapsed": 554,
     "status": "ok",
     "timestamp": 1620637841548,
     "user": {
      "displayName": "Özgür Özdemir",
      "photoUrl": "https://lh3.googleusercontent.com/a-/AOh14Gjl2KP3Mj_NirL2GQPsg4UCdlcgL6qDPGInZ8jLCg=s64",
      "userId": "01103416508639248030"
     },
     "user_tz": -180
    },
    "id": "CgPn3GgJhnga"
   },
   "outputs": [],
   "source": [
    "# Normalization\n",
    "X /= X.max()"
   ]
  },
  {
   "cell_type": "code",
   "execution_count": 7,
   "metadata": {
    "colab": {
     "base_uri": "https://localhost:8080/"
    },
    "executionInfo": {
     "elapsed": 517,
     "status": "ok",
     "timestamp": 1620637845230,
     "user": {
      "displayName": "Özgür Özdemir",
      "photoUrl": "https://lh3.googleusercontent.com/a-/AOh14Gjl2KP3Mj_NirL2GQPsg4UCdlcgL6qDPGInZ8jLCg=s64",
      "userId": "01103416508639248030"
     },
     "user_tz": -180
    },
    "id": "pKHC5MTS0Itp",
    "outputId": "f4781d68-0c6f-4e5d-89d3-7d5318955358"
   },
   "outputs": [
    {
     "name": "stdout",
     "output_type": "stream",
     "text": [
      "X shape: (1797, 64)\n",
      "y shape: (1797, 10)\n"
     ]
    }
   ],
   "source": [
    "print(f\"X shape: {X.shape}\")\n",
    "print(f\"y shape: {y.shape}\")"
   ]
  },
  {
   "cell_type": "code",
   "execution_count": 8,
   "metadata": {
    "colab": {
     "base_uri": "https://localhost:8080/"
    },
    "executionInfo": {
     "elapsed": 707,
     "status": "ok",
     "timestamp": 1620637858233,
     "user": {
      "displayName": "Özgür Özdemir",
      "photoUrl": "https://lh3.googleusercontent.com/a-/AOh14Gjl2KP3Mj_NirL2GQPsg4UCdlcgL6qDPGInZ8jLCg=s64",
      "userId": "01103416508639248030"
     },
     "user_tz": -180
    },
    "id": "p8WoH55liyUS",
    "outputId": "e26c34ef-997b-4be2-a207-a531f6e5fa3d"
   },
   "outputs": [
    {
     "data": {
      "text/plain": [
       "array([[1., 0., 0., 0., 0., 0., 0., 0., 0., 0.],\n",
       "       [0., 1., 0., 0., 0., 0., 0., 0., 0., 0.],\n",
       "       [0., 0., 1., 0., 0., 0., 0., 0., 0., 0.],\n",
       "       [0., 0., 0., 1., 0., 0., 0., 0., 0., 0.],\n",
       "       [0., 0., 0., 0., 1., 0., 0., 0., 0., 0.]])"
      ]
     },
     "execution_count": 8,
     "metadata": {},
     "output_type": "execute_result"
    }
   ],
   "source": [
    "y[:5]"
   ]
  },
  {
   "cell_type": "code",
   "execution_count": 9,
   "metadata": {
    "executionInfo": {
     "elapsed": 995,
     "status": "ok",
     "timestamp": 1620638030217,
     "user": {
      "displayName": "Özgür Özdemir",
      "photoUrl": "https://lh3.googleusercontent.com/a-/AOh14Gjl2KP3Mj_NirL2GQPsg4UCdlcgL6qDPGInZ8jLCg=s64",
      "userId": "01103416508639248030"
     },
     "user_tz": -180
    },
    "id": "Ygpp7fjD4UAv"
   },
   "outputs": [],
   "source": [
    "from sklearn.model_selection import train_test_split\n",
    "\n",
    "X_train, X_test, y_train, y_test = train_test_split(X, y, test_size=0.2)\n",
    "X_valid, X_test, y_valid, y_test = train_test_split(X_test, y_test, test_size=0.5)"
   ]
  },
  {
   "cell_type": "code",
   "execution_count": 10,
   "metadata": {
    "colab": {
     "base_uri": "https://localhost:8080/"
    },
    "executionInfo": {
     "elapsed": 999,
     "status": "ok",
     "timestamp": 1620638038826,
     "user": {
      "displayName": "Özgür Özdemir",
      "photoUrl": "https://lh3.googleusercontent.com/a-/AOh14Gjl2KP3Mj_NirL2GQPsg4UCdlcgL6qDPGInZ8jLCg=s64",
      "userId": "01103416508639248030"
     },
     "user_tz": -180
    },
    "id": "3Ad8hV6G4lOH",
    "outputId": "9ad23c22-0491-4810-bbed-d5d0cc8b48f6"
   },
   "outputs": [
    {
     "name": "stdout",
     "output_type": "stream",
     "text": [
      "Train samples: 1437\n",
      "Valid samples: 180\n",
      "Test  samples: 180\n"
     ]
    }
   ],
   "source": [
    "print(f\"Train samples: {len(X_train)}\")\n",
    "print(f\"Valid samples: {len(X_valid)}\")\n",
    "print(f\"Test  samples: {len(X_test)}\")"
   ]
  },
  {
   "cell_type": "code",
   "execution_count": 11,
   "metadata": {
    "id": "a87UDXzojyXO"
   },
   "outputs": [],
   "source": [
    "# sigmoid -> [0,1]\n",
    "# tanh -> [-1, 1]\n",
    "# relu -> [0, n]\n",
    "# softmax -> [0, 1]"
   ]
  },
  {
   "cell_type": "markdown",
   "metadata": {
    "id": "lXDFeUfA8d-j"
   },
   "source": [
    "# Single-Layer Perceptrons\n",
    "\n",
    "![alt text](https://www.tutorialspoint.com/tensorflow/images/single_layer_perceptron.jpg)"
   ]
  },
  {
   "cell_type": "markdown",
   "metadata": {
    "id": "sjjZ8-_IWguU"
   },
   "source": [
    "# Multi-Layer Perceptrons (MLP)\n",
    "https://scikit-learn.org/stable/modules/generated/sklearn.neural_network.MLPClassifier.html#sklearn.neural_network.MLPClassifier\n",
    "\n",
    "![alt text](https://www.tutorialspoint.com/tensorflow/images/schematic_representation.jpg)\n",
    "\n",
    "_Images are taken from: https://www.tutorialspoint.com/tensorflow/tensorflow_single_layer_perceptron.htm_"
   ]
  },
  {
   "cell_type": "code",
   "execution_count": 11,
   "metadata": {
    "executionInfo": {
     "elapsed": 618,
     "status": "ok",
     "timestamp": 1620638629227,
     "user": {
      "displayName": "Özgür Özdemir",
      "photoUrl": "https://lh3.googleusercontent.com/a-/AOh14Gjl2KP3Mj_NirL2GQPsg4UCdlcgL6qDPGInZ8jLCg=s64",
      "userId": "01103416508639248030"
     },
     "user_tz": -180
    },
    "id": "QlsEHJuyWorQ"
   },
   "outputs": [],
   "source": [
    "from sklearn.neural_network import MLPClassifier\n",
    "\n",
    "# 64, 128, 128, 32, 10\n",
    "\n",
    "model = MLPClassifier(hidden_layer_sizes = (128, 128, 32), learning_rate_init=0.01)"
   ]
  },
  {
   "cell_type": "code",
   "execution_count": 12,
   "metadata": {
    "colab": {
     "base_uri": "https://localhost:8080/"
    },
    "executionInfo": {
     "elapsed": 2972,
     "status": "ok",
     "timestamp": 1620638633093,
     "user": {
      "displayName": "Özgür Özdemir",
      "photoUrl": "https://lh3.googleusercontent.com/a-/AOh14Gjl2KP3Mj_NirL2GQPsg4UCdlcgL6qDPGInZ8jLCg=s64",
      "userId": "01103416508639248030"
     },
     "user_tz": -180
    },
    "id": "suzZiAvqZEuj",
    "outputId": "61fc26cb-3095-432f-c558-ed9f7f644276"
   },
   "outputs": [
    {
     "data": {
      "text/plain": [
       "MLPClassifier(activation='relu', alpha=0.0001, batch_size='auto', beta_1=0.9,\n",
       "              beta_2=0.999, early_stopping=False, epsilon=1e-08,\n",
       "              hidden_layer_sizes=(128, 128, 32), learning_rate='constant',\n",
       "              learning_rate_init=0.01, max_fun=15000, max_iter=200,\n",
       "              momentum=0.9, n_iter_no_change=10, nesterovs_momentum=True,\n",
       "              power_t=0.5, random_state=None, shuffle=True, solver='adam',\n",
       "              tol=0.0001, validation_fraction=0.1, verbose=False,\n",
       "              warm_start=False)"
      ]
     },
     "execution_count": 12,
     "metadata": {
      "tags": []
     },
     "output_type": "execute_result"
    }
   ],
   "source": [
    "model.fit(X_train, y_train)"
   ]
  },
  {
   "cell_type": "code",
   "execution_count": 13,
   "metadata": {
    "colab": {
     "base_uri": "https://localhost:8080/"
    },
    "executionInfo": {
     "elapsed": 436,
     "status": "ok",
     "timestamp": 1620638805095,
     "user": {
      "displayName": "Özgür Özdemir",
      "photoUrl": "https://lh3.googleusercontent.com/a-/AOh14Gjl2KP3Mj_NirL2GQPsg4UCdlcgL6qDPGInZ8jLCg=s64",
      "userId": "01103416508639248030"
     },
     "user_tz": -180
    },
    "id": "jncjYy_p56d1",
    "outputId": "5862f41b-2db1-4f49-e1ee-e59af6f4458c"
   },
   "outputs": [
    {
     "data": {
      "text/plain": [
       "0.9444444444444444"
      ]
     },
     "execution_count": 13,
     "metadata": {
      "tags": []
     },
     "output_type": "execute_result"
    }
   ],
   "source": [
    "model.score(X_valid, y_valid)"
   ]
  },
  {
   "cell_type": "code",
   "execution_count": 14,
   "metadata": {
    "colab": {
     "base_uri": "https://localhost:8080/"
    },
    "executionInfo": {
     "elapsed": 561,
     "status": "ok",
     "timestamp": 1620638848518,
     "user": {
      "displayName": "Özgür Özdemir",
      "photoUrl": "https://lh3.googleusercontent.com/a-/AOh14Gjl2KP3Mj_NirL2GQPsg4UCdlcgL6qDPGInZ8jLCg=s64",
      "userId": "01103416508639248030"
     },
     "user_tz": -180
    },
    "id": "pQz-QvjY6A2b",
    "outputId": "090dfaee-5006-43d0-e8a2-07066f11bc00"
   },
   "outputs": [
    {
     "name": "stdout",
     "output_type": "stream",
     "text": [
      "Prediction: [[0 0 0 0 0 0 0 0 0 1]]\n"
     ]
    }
   ],
   "source": [
    "sample = X_test[0]\n",
    "\n",
    "prediction = model.predict([sample])\n",
    "print(f\"Prediction: {prediction}\")"
   ]
  },
  {
   "cell_type": "code",
   "execution_count": 15,
   "metadata": {
    "colab": {
     "base_uri": "https://localhost:8080/"
    },
    "executionInfo": {
     "elapsed": 706,
     "status": "ok",
     "timestamp": 1620638905012,
     "user": {
      "displayName": "Özgür Özdemir",
      "photoUrl": "https://lh3.googleusercontent.com/a-/AOh14Gjl2KP3Mj_NirL2GQPsg4UCdlcgL6qDPGInZ8jLCg=s64",
      "userId": "01103416508639248030"
     },
     "user_tz": -180
    },
    "id": "IHIONB3P74Mc",
    "outputId": "fed20c4f-ea18-4c59-db59-232349f3e812"
   },
   "outputs": [
    {
     "name": "stdout",
     "output_type": "stream",
     "text": [
      "Prediction: 9\n"
     ]
    }
   ],
   "source": [
    "prediction = np.argmax(prediction[0])\n",
    "print(f\"Prediction: {prediction}\")"
   ]
  },
  {
   "cell_type": "code",
   "execution_count": 16,
   "metadata": {
    "colab": {
     "base_uri": "https://localhost:8080/",
     "height": 281
    },
    "executionInfo": {
     "elapsed": 873,
     "status": "ok",
     "timestamp": 1620638909690,
     "user": {
      "displayName": "Özgür Özdemir",
      "photoUrl": "https://lh3.googleusercontent.com/a-/AOh14Gjl2KP3Mj_NirL2GQPsg4UCdlcgL6qDPGInZ8jLCg=s64",
      "userId": "01103416508639248030"
     },
     "user_tz": -180
    },
    "id": "M5jdIe077Eag",
    "outputId": "ae707dd4-2524-4adc-be75-03a6f3545b66"
   },
   "outputs": [
    {
     "data": {
      "text/plain": [
       "(-0.5, 7.5, 7.5, -0.5)"
      ]
     },
     "execution_count": 16,
     "metadata": {
      "tags": []
     },
     "output_type": "execute_result"
    },
    {
     "data": {
      "image/png": "[encoded data removed]",
      "text/plain": [
       "<Figure size 432x288 with 1 Axes>"
      ]
     },
     "metadata": {
      "needs_background": "light",
      "tags": []
     },
     "output_type": "display_data"
    }
   ],
   "source": [
    "plt.imshow(sample.reshape(8,8))\n",
    "plt.title(f\"Prediction: {prediction}\")\n",
    "plt.axis(\"off\")"
   ]
  },
  {
   "cell_type": "markdown",
   "metadata": {
    "id": "Xk3bCKyZ8FFB"
   },
   "source": [
    "# Deep Learning with GPU\n",
    "\n",
    "* Tensorflow (or Keras)\n",
    "* PyTorch"
   ]
  },
  {
   "cell_type": "code",
   "execution_count": 17,
   "metadata": {
    "executionInfo": {
     "elapsed": 2134,
     "status": "ok",
     "timestamp": 1620639147353,
     "user": {
      "displayName": "Özgür Özdemir",
      "photoUrl": "https://lh3.googleusercontent.com/a-/AOh14Gjl2KP3Mj_NirL2GQPsg4UCdlcgL6qDPGInZ8jLCg=s64",
      "userId": "01103416508639248030"
     },
     "user_tz": -180
    },
    "id": "mUe5O6OG8EsX"
   },
   "outputs": [],
   "source": [
    "from tensorflow.keras.layers import Dense\n",
    "from tensorflow.keras.models import Sequential"
   ]
  },
  {
   "cell_type": "code",
   "execution_count": 18,
   "metadata": {
    "executionInfo": {
     "elapsed": 550,
     "status": "ok",
     "timestamp": 1620639265264,
     "user": {
      "displayName": "Özgür Özdemir",
      "photoUrl": "https://lh3.googleusercontent.com/a-/AOh14Gjl2KP3Mj_NirL2GQPsg4UCdlcgL6qDPGInZ8jLCg=s64",
      "userId": "01103416508639248030"
     },
     "user_tz": -180
    },
    "id": "wTpEeWQn9hna"
   },
   "outputs": [],
   "source": [
    "mlp_model = Sequential()\n",
    "\n",
    "mlp_model.add(Dense(128)) # first hidden \n",
    "mlp_model.add(Dense(128)) # second hidden\n",
    "mlp_model.add(Dense(32)) # third hidden\n",
    "\n",
    "# output layer\n",
    "mlp_model.add(Dense(10, activation=\"softmax\")) # output\n",
    "\n",
    "mlp_model.compile(optimizer='adam', loss='categorical_crossentropy', metrics='acc')"
   ]
  },
  {
   "cell_type": "code",
   "execution_count": 19,
   "metadata": {
    "colab": {
     "base_uri": "https://localhost:8080/"
    },
    "executionInfo": {
     "elapsed": 6017,
     "status": "ok",
     "timestamp": 1620639345800,
     "user": {
      "displayName": "Özgür Özdemir",
      "photoUrl": "https://lh3.googleusercontent.com/a-/AOh14Gjl2KP3Mj_NirL2GQPsg4UCdlcgL6qDPGInZ8jLCg=s64",
      "userId": "01103416508639248030"
     },
     "user_tz": -180
    },
    "id": "r7qst6B-92Zw",
    "outputId": "122dcde7-0423-4afa-9f56-1604c5a24cb9"
   },
   "outputs": [
    {
     "name": "stdout",
     "output_type": "stream",
     "text": [
      "Epoch 1/20\n",
      "90/90 [==============================] - 1s 8ms/step - loss: 1.3576 - acc: 0.6007 - val_loss: 0.3381 - val_acc: 0.8944\n",
      "Epoch 2/20\n",
      "90/90 [==============================] - 0s 2ms/step - loss: 0.2302 - acc: 0.9469 - val_loss: 0.2726 - val_acc: 0.9056\n",
      "Epoch 3/20\n",
      "90/90 [==============================] - 0s 2ms/step - loss: 0.1516 - acc: 0.9535 - val_loss: 0.1567 - val_acc: 0.9444\n",
      "Epoch 4/20\n",
      "90/90 [==============================] - 0s 2ms/step - loss: 0.1038 - acc: 0.9726 - val_loss: 0.1435 - val_acc: 0.9444\n",
      "Epoch 5/20\n",
      "90/90 [==============================] - 0s 2ms/step - loss: 0.1120 - acc: 0.9597 - val_loss: 0.1546 - val_acc: 0.9333\n",
      "Epoch 6/20\n",
      "90/90 [==============================] - 0s 2ms/step - loss: 0.0988 - acc: 0.9727 - val_loss: 0.1614 - val_acc: 0.9222\n",
      "Epoch 7/20\n",
      "90/90 [==============================] - 0s 2ms/step - loss: 0.0745 - acc: 0.9769 - val_loss: 0.1368 - val_acc: 0.9444\n",
      "Epoch 8/20\n",
      "90/90 [==============================] - 0s 2ms/step - loss: 0.0653 - acc: 0.9805 - val_loss: 0.1193 - val_acc: 0.9556\n",
      "Epoch 9/20\n",
      "90/90 [==============================] - 0s 2ms/step - loss: 0.0414 - acc: 0.9862 - val_loss: 0.1079 - val_acc: 0.9611\n",
      "Epoch 10/20\n",
      "90/90 [==============================] - 0s 2ms/step - loss: 0.0383 - acc: 0.9914 - val_loss: 0.0904 - val_acc: 0.9611\n",
      "Epoch 11/20\n",
      "90/90 [==============================] - 0s 2ms/step - loss: 0.0354 - acc: 0.9907 - val_loss: 0.1038 - val_acc: 0.9667\n",
      "Epoch 12/20\n",
      "90/90 [==============================] - 0s 2ms/step - loss: 0.0564 - acc: 0.9792 - val_loss: 0.1171 - val_acc: 0.9500\n",
      "Epoch 13/20\n",
      "90/90 [==============================] - 0s 2ms/step - loss: 0.0419 - acc: 0.9867 - val_loss: 0.1706 - val_acc: 0.9500\n",
      "Epoch 14/20\n",
      "90/90 [==============================] - 0s 2ms/step - loss: 0.0394 - acc: 0.9906 - val_loss: 0.0670 - val_acc: 0.9778\n",
      "Epoch 15/20\n",
      "90/90 [==============================] - 0s 2ms/step - loss: 0.0455 - acc: 0.9849 - val_loss: 0.1778 - val_acc: 0.9611\n",
      "Epoch 16/20\n",
      "90/90 [==============================] - 0s 2ms/step - loss: 0.0237 - acc: 0.9949 - val_loss: 0.1280 - val_acc: 0.9611\n",
      "Epoch 17/20\n",
      "90/90 [==============================] - 0s 2ms/step - loss: 0.0237 - acc: 0.9942 - val_loss: 0.1193 - val_acc: 0.9611\n",
      "Epoch 18/20\n",
      "90/90 [==============================] - 0s 2ms/step - loss: 0.0163 - acc: 0.9947 - val_loss: 0.1345 - val_acc: 0.9444\n",
      "Epoch 19/20\n",
      "90/90 [==============================] - 0s 2ms/step - loss: 0.0185 - acc: 0.9944 - val_loss: 0.2218 - val_acc: 0.9500\n",
      "Epoch 20/20\n",
      "90/90 [==============================] - 0s 2ms/step - loss: 0.0318 - acc: 0.9895 - val_loss: 0.1086 - val_acc: 0.9667\n"
     ]
    },
    {
     "data": {
      "text/plain": [
       "<tensorflow.python.keras.callbacks.History at 0x7f223cbf7850>"
      ]
     },
     "execution_count": 19,
     "metadata": {
      "tags": []
     },
     "output_type": "execute_result"
    }
   ],
   "source": [
    "mlp_model.fit(X_train, y_train, epochs=20, batch_size=16, validation_data=(X_valid, y_valid))"
   ]
  },
  {
   "cell_type": "code",
   "execution_count": 20,
   "metadata": {
    "colab": {
     "base_uri": "https://localhost:8080/"
    },
    "executionInfo": {
     "elapsed": 484,
     "status": "ok",
     "timestamp": 1620639394746,
     "user": {
      "displayName": "Özgür Özdemir",
      "photoUrl": "https://lh3.googleusercontent.com/a-/AOh14Gjl2KP3Mj_NirL2GQPsg4UCdlcgL6qDPGInZ8jLCg=s64",
      "userId": "01103416508639248030"
     },
     "user_tz": -180
    },
    "id": "ec50mBIy-Iwj",
    "outputId": "4062d232-549f-4680-f56d-2d64554e16e7"
   },
   "outputs": [
    {
     "name": "stdout",
     "output_type": "stream",
     "text": [
      "Prediction: [[1.0071554e-09 3.6704669e-15 3.9231948e-11 3.2291766e-07 5.6768439e-16\n",
      "  7.2932704e-09 3.3892136e-10 1.2818790e-10 5.8369091e-07 9.9999905e-01]]\n"
     ]
    }
   ],
   "source": [
    "sample = X_test[0]\n",
    "\n",
    "prediction = mlp_model.predict(sample.reshape(1, -1))\n",
    "print(f\"Prediction: {prediction}\")\n",
    "\n",
    "#   0.    1.    2.    3.    4.   5.     6.    7.   8.    9.\n",
    "# 0.05, 0.05, 0.05, 0.05, 0.05, 0.05, 0.05, 0.05, 0.05, 0.96"
   ]
  },
  {
   "cell_type": "code",
   "execution_count": 21,
   "metadata": {
    "colab": {
     "base_uri": "https://localhost:8080/"
    },
    "executionInfo": {
     "elapsed": 773,
     "status": "ok",
     "timestamp": 1620639632553,
     "user": {
      "displayName": "Özgür Özdemir",
      "photoUrl": "https://lh3.googleusercontent.com/a-/AOh14Gjl2KP3Mj_NirL2GQPsg4UCdlcgL6qDPGInZ8jLCg=s64",
      "userId": "01103416508639248030"
     },
     "user_tz": -180
    },
    "id": "ECVTexJz-dQW",
    "outputId": "dd15aa0f-1192-49a6-9c13-b72748251979"
   },
   "outputs": [
    {
     "name": "stdout",
     "output_type": "stream",
     "text": [
      "Prediction: 9\n"
     ]
    }
   ],
   "source": [
    "prediction = np.argmax(prediction[0])\n",
    "print(f\"Prediction: {prediction}\")"
   ]
  },
  {
   "cell_type": "code",
   "execution_count": 22,
   "metadata": {
    "colab": {
     "base_uri": "https://localhost:8080/",
     "height": 281
    },
    "executionInfo": {
     "elapsed": 1049,
     "status": "ok",
     "timestamp": 1620639655503,
     "user": {
      "displayName": "Özgür Özdemir",
      "photoUrl": "https://lh3.googleusercontent.com/a-/AOh14Gjl2KP3Mj_NirL2GQPsg4UCdlcgL6qDPGInZ8jLCg=s64",
      "userId": "01103416508639248030"
     },
     "user_tz": -180
    },
    "id": "_18ktMlA-m8Z",
    "outputId": "3d0376d1-c88d-4b57-d6f2-e0ce6f753321"
   },
   "outputs": [
    {
     "data": {
      "text/plain": [
       "(-0.5, 7.5, 7.5, -0.5)"
      ]
     },
     "execution_count": 22,
     "metadata": {
      "tags": []
     },
     "output_type": "execute_result"
    },
    {
     "data": {
      "image/png": "[encoded data removed]",
      "text/plain": [
       "<Figure size 432x288 with 1 Axes>"
      ]
     },
     "metadata": {
      "needs_background": "light",
      "tags": []
     },
     "output_type": "display_data"
    }
   ],
   "source": [
    "plt.imshow(sample.reshape(8,8))\n",
    "plt.title(f\"Prediction: {prediction}\")\n",
    "plt.axis(\"off\")"
   ]
  },
  {
   "cell_type": "code",
   "execution_count": null,
   "metadata": {
    "id": "4o11z0pNh0K6"
   },
   "outputs": [],
   "source": []
  }
 ],
 "metadata": {
  "colab": {
   "authorship_tag": "ABX9TyPcrJJYFL+mo+IDr192h+yn",
   "collapsed_sections": [],
   "name": "CMPE407_Week_11.ipynb",
   "provenance": []
  },
  "kernelspec": {
   "display_name": "Python 3",
   "language": "python",
   "name": "python3"
  },
  "language_info": {
   "codemirror_mode": {
    "name": "ipython",
    "version": 3
   },
   "file_extension": ".py",
   "mimetype": "text/x-python",
   "name": "python",
   "nbconvert_exporter": "python",
   "pygments_lexer": "ipython3",
   "version": "3.8.8"
  }
 },
 "nbformat": 4,
 "nbformat_minor": 1
}

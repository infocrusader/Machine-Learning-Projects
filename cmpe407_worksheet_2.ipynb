{
 "cells": [
  {
   "cell_type": "markdown",
   "metadata": {
    "colab_type": "text",
    "id": "3EVoshXYjbcU"
   },
   "source": [
    "## Implementations"
   ]
  },
  {
   "cell_type": "code",
   "execution_count": null,
   "metadata": {
    "colab": {},
    "colab_type": "code",
    "collapsed": true,
    "id": "_N7rDXZtU7Tg"
   },
   "outputs": [],
   "source": [
    "import pandas\n",
    "import numpy as np\n",
    "\n",
    "import matplotlib.pyplot as plt\n",
    "import seaborn as sns; sns.set()"
   ]
  },
  {
   "cell_type": "markdown",
   "metadata": {
    "colab_type": "text",
    "id": "gy5FxFHGwD64"
   },
   "source": [
    "## Generating synthetic dataset"
   ]
  },
  {
   "cell_type": "code",
   "execution_count": null,
   "metadata": {
    "colab": {},
    "colab_type": "code",
    "collapsed": true,
    "id": "jpvYIzirte7b"
   },
   "outputs": [],
   "source": [
    "def func(X): return X**2\n",
    "\n",
    "X = np.arange(0, 100)\n",
    "y = func(X) + np.random.randint(10, size=(100)) * np.random.normal(100)\n",
    "data = zip(X, y)"
   ]
  },
  {
   "cell_type": "code",
   "execution_count": null,
   "metadata": {
    "colab": {
     "base_uri": "https://localhost:8080/",
     "height": 119
    },
    "colab_type": "code",
    "id": "wrvF-m3QwVzr",
    "outputId": "bfb3dba4-d7c0-4d89-bcdb-c3f8e597e026"
   },
   "outputs": [],
   "source": [
    "syn_data = pandas.DataFrame(data, columns=['X', 'y'])\n",
    "print(syn_data.head())"
   ]
  },
  {
   "cell_type": "code",
   "execution_count": null,
   "metadata": {
    "colab": {
     "base_uri": "https://localhost:8080/",
     "height": 153
    },
    "colab_type": "code",
    "id": "zYrPMnySwdvW",
    "outputId": "7f7de9a8-f1bd-425f-d4bc-f7df53f3637d"
   },
   "outputs": [],
   "source": [
    "print(syn_data.info())"
   ]
  },
  {
   "cell_type": "code",
   "execution_count": null,
   "metadata": {
    "colab": {
     "base_uri": "https://localhost:8080/",
     "height": 170
    },
    "colab_type": "code",
    "id": "o5E17hvtvc8k",
    "outputId": "91f2a818-4ef4-444c-d7e2-9283240ef5bb"
   },
   "outputs": [],
   "source": [
    "print(syn_data.describe())"
   ]
  },
  {
   "cell_type": "markdown",
   "metadata": {
    "colab_type": "text",
    "id": "6LRmI5GyBr8y"
   },
   "source": [
    "## Line Plot"
   ]
  },
  {
   "cell_type": "code",
   "execution_count": null,
   "metadata": {
    "colab": {
     "base_uri": "https://localhost:8080/",
     "height": 285
    },
    "colab_type": "code",
    "id": "jORPqVhkufLF",
    "outputId": "49e3adbf-a675-441d-be86-7e294d4ebf75"
   },
   "outputs": [],
   "source": [
    "plt.plot(syn_data['X'].values, syn_data['y'].values)"
   ]
  },
  {
   "cell_type": "code",
   "execution_count": null,
   "metadata": {
    "colab": {
     "base_uri": "https://localhost:8080/",
     "height": 302
    },
    "colab_type": "code",
    "id": "dCINOPt7wxo6",
    "outputId": "fe23b252-b0a1-4263-db2c-f24e2c3229c4"
   },
   "outputs": [],
   "source": [
    "sns.lineplot(x='X', y='y', data=syn_data)"
   ]
  },
  {
   "cell_type": "markdown",
   "metadata": {
    "colab_type": "text",
    "id": "kFJrWP6rjdEv"
   },
   "source": [
    "# Titanic dataset"
   ]
  },
  {
   "cell_type": "code",
   "execution_count": null,
   "metadata": {
    "colab": {},
    "colab_type": "code",
    "collapsed": true,
    "id": "NAHrjrfxr-mt"
   },
   "outputs": [],
   "source": [
    "titanic_data = sns.load_dataset('titanic')"
   ]
  },
  {
   "cell_type": "code",
   "execution_count": null,
   "metadata": {
    "colab": {
     "base_uri": "https://localhost:8080/",
     "height": 153
    },
    "colab_type": "code",
    "id": "LYQR87r3sH6T",
    "outputId": "6dd12954-be8b-44b6-954a-11576afc3204"
   },
   "outputs": [],
   "source": [
    "print(titanic_data.head())"
   ]
  },
  {
   "cell_type": "code",
   "execution_count": null,
   "metadata": {
    "colab": {
     "base_uri": "https://localhost:8080/",
     "height": 374
    },
    "colab_type": "code",
    "id": "A6Dv0j1PxVuQ",
    "outputId": "df630bba-7536-436b-d21c-eee42343a60f"
   },
   "outputs": [],
   "source": [
    "print(titanic_data.info())"
   ]
  },
  {
   "cell_type": "markdown",
   "metadata": {
    "colab_type": "text",
    "id": "wXPhLywFxpZa"
   },
   "source": [
    "### _Why should I get rid of None values?_"
   ]
  },
  {
   "cell_type": "code",
   "execution_count": null,
   "metadata": {
    "colab": {},
    "colab_type": "code",
    "collapsed": true,
    "id": "yVrFm-LnsafB"
   },
   "outputs": [],
   "source": [
    "titanic_data = titanic_data.dropna()"
   ]
  },
  {
   "cell_type": "code",
   "execution_count": null,
   "metadata": {
    "colab": {
     "base_uri": "https://localhost:8080/",
     "height": 170
    },
    "colab_type": "code",
    "id": "2M4tBR4EKrpU",
    "outputId": "bf2c45d1-31cb-48a1-9df3-ff183b7b0b44"
   },
   "outputs": [],
   "source": [
    "print(titanic_data.describe())"
   ]
  },
  {
   "cell_type": "markdown",
   "metadata": {
    "colab_type": "text",
    "id": "g24XqYQ5x9Ms"
   },
   "source": [
    "### _Can I present this features with line plot?_ "
   ]
  },
  {
   "cell_type": "code",
   "execution_count": null,
   "metadata": {
    "colab": {
     "base_uri": "https://localhost:8080/",
     "height": 285
    },
    "colab_type": "code",
    "id": "iG_AEnGosVhr",
    "outputId": "c2b19967-9402-406b-e9cc-c6572855ab1a"
   },
   "outputs": [],
   "source": [
    "plt.plot(titanic_data['age'].values, titanic_data['fare'].values)"
   ]
  },
  {
   "cell_type": "code",
   "execution_count": null,
   "metadata": {
    "colab": {
     "base_uri": "https://localhost:8080/",
     "height": 302
    },
    "colab_type": "code",
    "id": "AwdKjVJ2sroV",
    "outputId": "8e2a0b13-0208-4c6a-c6a3-8f3dc4e54f10"
   },
   "outputs": [],
   "source": [
    "sns.lineplot(x='age', y='fare', data=titanic_data)"
   ]
  },
  {
   "cell_type": "markdown",
   "metadata": {
    "colab_type": "text",
    "id": "uDMiWgz1y4Nj"
   },
   "source": [
    "## Bar Plots / Catplots"
   ]
  },
  {
   "cell_type": "code",
   "execution_count": null,
   "metadata": {
    "colab": {
     "base_uri": "https://localhost:8080/",
     "height": 302
    },
    "colab_type": "code",
    "id": "stemXe_IyjgK",
    "outputId": "ba851d5c-e3fd-4bd5-a817-68acb0381d09"
   },
   "outputs": [],
   "source": [
    "sns.barplot(x='deck', y='fare', data=titanic_data)"
   ]
  },
  {
   "cell_type": "code",
   "execution_count": null,
   "metadata": {
    "colab": {},
    "colab_type": "code",
    "collapsed": true,
    "id": "cUDXeTqlzql3"
   },
   "outputs": [],
   "source": [
    "# plt.bar(titanic_data['deck'], titanic_data['fare'])"
   ]
  },
  {
   "cell_type": "code",
   "execution_count": null,
   "metadata": {
    "colab": {},
    "colab_type": "code",
    "collapsed": true,
    "id": "zax7MvvWzzLM"
   },
   "outputs": [],
   "source": [
    "encoding = {'deck': {'A': 0, 'B': 1, 'C': 2, 'D': 3, 'E':4, 'F':5, 'G':6}}\n",
    "titanic_data.replace(encoding, inplace=True)"
   ]
  },
  {
   "cell_type": "code",
   "execution_count": null,
   "metadata": {
    "colab": {
     "base_uri": "https://localhost:8080/",
     "height": 285
    },
    "colab_type": "code",
    "id": "5nXvDE0S0zoy",
    "outputId": "5f04774e-6ebd-4940-be5f-d2e3aea40f7e"
   },
   "outputs": [],
   "source": [
    "plt.bar(titanic_data['deck'].values, titanic_data['fare'].values)"
   ]
  },
  {
   "cell_type": "markdown",
   "metadata": {
    "colab_type": "text",
    "id": "tIsPZOTApdJp"
   },
   "source": [
    "# Iris Dataset"
   ]
  },
  {
   "cell_type": "code",
   "execution_count": null,
   "metadata": {
    "colab": {
     "base_uri": "https://localhost:8080/",
     "height": 119
    },
    "colab_type": "code",
    "id": "DM99kY4mpozc",
    "outputId": "ae7674a6-2a10-46ff-9fa9-cb43d57f84ca"
   },
   "outputs": [],
   "source": [
    "iris_data = pandas.read_csv('iris.csv')\n",
    "print(iris_data.head())"
   ]
  },
  {
   "cell_type": "code",
   "execution_count": null,
   "metadata": {
    "colab": {
     "base_uri": "https://localhost:8080/",
     "height": 221
    },
    "colab_type": "code",
    "id": "9hw7W4agpxuZ",
    "outputId": "b06562ef-7524-4f5d-cbe2-71ff7be33068"
   },
   "outputs": [],
   "source": [
    "print(iris_data.describe(include='all'))"
   ]
  },
  {
   "cell_type": "markdown",
   "metadata": {
    "colab_type": "text",
    "id": "qGgznJarXgys"
   },
   "source": [
    "## Box Plot"
   ]
  },
  {
   "cell_type": "code",
   "execution_count": null,
   "metadata": {
    "colab": {},
    "colab_type": "code",
    "collapsed": true,
    "id": "OuZaaWW_p4kw"
   },
   "outputs": [],
   "source": [
    "setosa = iris_data[iris_data['species'] == 'setosa']\n",
    "versicolor = iris_data[iris_data['species'] == 'versicolor']\n",
    "virginica = iris_data[iris_data['species'] == 'virginica']"
   ]
  },
  {
   "cell_type": "code",
   "execution_count": null,
   "metadata": {
    "colab": {
     "base_uri": "https://localhost:8080/",
     "height": 268
    },
    "colab_type": "code",
    "id": "x19DUJncXj3b",
    "outputId": "ba15cc4f-a945-4057-df7f-ad3a21115b75"
   },
   "outputs": [],
   "source": [
    "feature = 'sepal_length'\n",
    "\n",
    "bp_data = [setosa[feature], versicolor[feature], virginica[feature]]\n",
    "plt.boxplot(bp_data, vert=False, labels=['setosa', 'versicolor', 'virginica'])\n",
    "plt.show()"
   ]
  },
  {
   "cell_type": "code",
   "execution_count": null,
   "metadata": {
    "colab": {
     "base_uri": "https://localhost:8080/",
     "height": 285
    },
    "colab_type": "code",
    "id": "-wjmAQEBWkLa",
    "outputId": "6c52aabb-35fa-4f2e-dd1e-4ae9adde144a"
   },
   "outputs": [],
   "source": [
    "sns.boxplot(x='sepal_length', y='species', data=iris_data)\n",
    "plt.show()"
   ]
  },
  {
   "cell_type": "code",
   "execution_count": null,
   "metadata": {
    "colab": {
     "base_uri": "https://localhost:8080/",
     "height": 302
    },
    "colab_type": "code",
    "id": "mp1KQbZnLfYz",
    "outputId": "2862fbe3-99d0-41b1-eeab-26644ee1f7f9"
   },
   "outputs": [],
   "source": [
    "sns.barplot(x='sepal_length', y='species', data=iris_data)\n",
    "plt.show"
   ]
  },
  {
   "cell_type": "markdown",
   "metadata": {
    "colab_type": "text",
    "id": "qCL8eUpJkSTJ"
   },
   "source": [
    "## Scatter Plot"
   ]
  },
  {
   "cell_type": "markdown",
   "metadata": {
    "colab_type": "text",
    "id": "la4pJ9DBBJra"
   },
   "source": [
    "### _Which algorithm should I choose? Cluster or Regression?_"
   ]
  },
  {
   "cell_type": "code",
   "execution_count": null,
   "metadata": {
    "colab": {
     "base_uri": "https://localhost:8080/",
     "height": 269
    },
    "colab_type": "code",
    "id": "KDwoPxGXVyyy",
    "outputId": "b8c606e0-b899-47bb-cb1e-0534230cb8bb"
   },
   "outputs": [],
   "source": [
    "plt.scatter(setosa['sepal_length'].values, setosa['sepal_width'].values)\n",
    "plt.scatter(virginica['sepal_length'].values, virginica['sepal_width'].values)\n",
    "plt.scatter(versicolor['sepal_length'].values, versicolor['sepal_width'].values)\n",
    "plt.show()"
   ]
  },
  {
   "cell_type": "code",
   "execution_count": null,
   "metadata": {
    "colab": {
     "base_uri": "https://localhost:8080/",
     "height": 286
    },
    "colab_type": "code",
    "id": "34PHzcfkVnMe",
    "outputId": "0acb1317-bbb7-4c62-f381-94e601d42cf3"
   },
   "outputs": [],
   "source": [
    "sns.scatterplot(x='sepal_length', y='sepal_width', data=setosa)\n",
    "sns.scatterplot(x='sepal_length', y='sepal_width', data=virginica)\n",
    "sns.scatterplot(x='sepal_length', y='sepal_width', data=versicolor)\n",
    "plt.show()"
   ]
  },
  {
   "cell_type": "code",
   "execution_count": null,
   "metadata": {
    "colab": {
     "base_uri": "https://localhost:8080/",
     "height": 270
    },
    "colab_type": "code",
    "id": "SaX6YakUrh6J",
    "outputId": "1dd53004-c1b0-465b-95eb-a946bce1b808"
   },
   "outputs": [],
   "source": [
    "plt.plot(setosa['sepal_length'].values, setosa['sepal_width'].values)\n",
    "plt.plot(virginica['sepal_length'].values, virginica['sepal_width'].values)\n",
    "plt.plot(versicolor['sepal_length'].values, versicolor['sepal_width'].values)\n",
    "plt.show()"
   ]
  },
  {
   "cell_type": "code",
   "execution_count": null,
   "metadata": {
    "colab": {},
    "colab_type": "code",
    "collapsed": true,
    "id": "ygswmgzrLsr3"
   },
   "outputs": [],
   "source": [
    "encoding_map = {'species': {'setosa': 0, 'versicolor': 1, 'virginica':2}}\n",
    "iris_data.replace(encoding_map, inplace=True)"
   ]
  },
  {
   "cell_type": "markdown",
   "metadata": {
    "colab_type": "text",
    "id": "3FDasg4FphzH"
   },
   "source": [
    "# House Prices Dataset"
   ]
  },
  {
   "cell_type": "code",
   "execution_count": null,
   "metadata": {
    "colab": {
     "base_uri": "https://localhost:8080/",
     "height": 153
    },
    "colab_type": "code",
    "id": "QmYRthETVPmo",
    "outputId": "1860e2ff-5a4f-4bfc-954e-adefbcedd58a"
   },
   "outputs": [],
   "source": [
    "house_data = pandas.read_csv('HousePrices.csv')\n",
    "print(house_data.head())"
   ]
  },
  {
   "cell_type": "code",
   "execution_count": null,
   "metadata": {
    "colab": {
     "base_uri": "https://localhost:8080/",
     "height": 204
    },
    "colab_type": "code",
    "id": "0kqCxHy4VpKn",
    "outputId": "08a6575d-7507-4602-b536-0db33d720d1b"
   },
   "outputs": [],
   "source": [
    "print(house_data.describe(include='all'))"
   ]
  },
  {
   "cell_type": "markdown",
   "metadata": {
    "colab_type": "text",
    "id": "h0utjqHEGRCM"
   },
   "source": [
    "## Violin Plot"
   ]
  },
  {
   "cell_type": "code",
   "execution_count": null,
   "metadata": {
    "colab": {
     "base_uri": "https://localhost:8080/",
     "height": 302
    },
    "colab_type": "code",
    "id": "ZLHVuZ6VGTXu",
    "outputId": "9779c67e-9cf6-4867-f6ac-baba5c089372"
   },
   "outputs": [],
   "source": [
    "sns.violinplot(x='FirePlace', y='Prices', data=house_data)"
   ]
  },
  {
   "cell_type": "code",
   "execution_count": null,
   "metadata": {
    "colab": {
     "base_uri": "https://localhost:8080/",
     "height": 302
    },
    "colab_type": "code",
    "id": "RT_nsjflGWRy",
    "outputId": "b27042c7-0da5-44a9-fb23-2dcf6b05ff7c"
   },
   "outputs": [],
   "source": [
    "sns.violinplot(x='Garage', y='Prices', data=house_data)"
   ]
  },
  {
   "cell_type": "markdown",
   "metadata": {
    "colab_type": "text",
    "id": "dgOo7mfGnt_P"
   },
   "source": [
    "## Correlation"
   ]
  },
  {
   "cell_type": "code",
   "execution_count": null,
   "metadata": {
    "colab": {},
    "colab_type": "code",
    "collapsed": true,
    "id": "uMOwucO1oJ-P"
   },
   "outputs": [],
   "source": [
    "features = ['Area', 'Garage', 'FirePlace', 'Garden', 'Prices']"
   ]
  },
  {
   "cell_type": "code",
   "execution_count": null,
   "metadata": {
    "colab": {
     "base_uri": "https://localhost:8080/",
     "height": 944
    },
    "colab_type": "code",
    "id": "PhfyeeNnowos",
    "outputId": "fa288bfb-98df-4303-ca3d-3f8a14be2ddf"
   },
   "outputs": [],
   "source": [
    "sns.pairplot(house_data[features])"
   ]
  },
  {
   "cell_type": "code",
   "execution_count": null,
   "metadata": {
    "colab": {
     "base_uri": "https://localhost:8080/",
     "height": 289
    },
    "colab_type": "code",
    "id": "0ym2KoQZn0b8",
    "outputId": "149f9b75-5eda-4d02-d93c-ad5c368f285b"
   },
   "outputs": [],
   "source": [
    "sns.heatmap(house_data[features].corr())"
   ]
  },
  {
   "cell_type": "markdown",
   "metadata": {
    "colab_type": "text",
    "id": "SMT8iPtVIYCv"
   },
   "source": [
    "# Which dataset is better for which algorithm?"
   ]
  },
  {
   "cell_type": "code",
   "execution_count": null,
   "metadata": {
    "colab": {
     "base_uri": "https://localhost:8080/",
     "height": 302
    },
    "colab_type": "code",
    "id": "wmUcPsD9Egk7",
    "outputId": "605f3b35-efdc-425e-dea7-eb35b6c8866e"
   },
   "outputs": [],
   "source": [
    "sns.lineplot(x='Area', y='Prices', data=house_data)"
   ]
  },
  {
   "cell_type": "code",
   "execution_count": null,
   "metadata": {
    "colab": {
     "base_uri": "https://localhost:8080/",
     "height": 302
    },
    "colab_type": "code",
    "id": "jZHxyeHaGvUz",
    "outputId": "ad36e00f-fe7d-4bd4-a68c-4e0c3d144883"
   },
   "outputs": [],
   "source": [
    "sns.lineplot(x='sepal_length', y='species', data=iris_data)"
   ]
  },
  {
   "cell_type": "code",
   "execution_count": null,
   "metadata": {
    "colab": {
     "base_uri": "https://localhost:8080/",
     "height": 302
    },
    "colab_type": "code",
    "id": "F91wqtQpHgY0",
    "outputId": "97ed9985-3847-41dd-f563-5fc05b709a0f"
   },
   "outputs": [],
   "source": [
    "sns.lineplot(x='alive', y='fare', data=titanic_data)"
   ]
  },
  {
   "cell_type": "code",
   "execution_count": null,
   "metadata": {
    "colab": {},
    "colab_type": "code",
    "collapsed": true,
    "id": "NpH0t9f_K8ap"
   },
   "outputs": [],
   "source": []
  }
 ],
 "metadata": {
  "colab": {
   "collapsed_sections": [],
   "name": "CMPE407_Week_2.ipynb",
   "provenance": []
  },
  "kernelspec": {
   "display_name": "Python 3",
   "language": "python",
   "name": "python3"
  },
  "language_info": {
   "codemirror_mode": {
    "name": "ipython",
    "version": 3
   },
   "file_extension": ".py",
   "mimetype": "text/x-python",
   "name": "python",
   "nbconvert_exporter": "python",
   "pygments_lexer": "ipython3",
   "version": "3.6.2"
  }
 },
 "nbformat": 4,
 "nbformat_minor": 1
}
